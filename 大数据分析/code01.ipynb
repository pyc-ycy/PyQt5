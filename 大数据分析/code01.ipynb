{
 "cells": [
  {
   "cell_type": "markdown",
   "source": [
    "### 常用快捷键\n",
    "- 运行单元：Ctrl+Enter\n",
    "- 插入单元在后面：Alt+Shift+B\n",
    "- 插入单元在前方：Alt+Shift+A\n",
    "\n",
    "### 常用统计函数\n",
    "- size：计数（此函数不需要括号）\n",
    "- sum()：求和\n",
    "- mean():求平均值\n",
    "- var()：方差\n",
    "- std()：标准差"
   ],
   "metadata": {
    "collapsed": false
   }
  },
  {
   "cell_type": "code",
   "execution_count": 3,
   "outputs": [
    {
     "name": "stdout",
     "text": [
      "   Unnamed: 0          学号        班级  姓名 性别  英语  体育  军训  数分  高代  解几\n",
      "0           0  2308024241  23080242  成龙  男  76  78  77  40  23  60\n",
      "1           1  2308024244  23080242  周怡  女  66  91  75  47  47  44\n",
      "2           2  2308024251  23080242  张波  男  85  81  75  45  45  60\n",
      "3           3  2308024249  23080242  朱浩  男  65  50  80  72  62  71\n",
      "4           4  2308024219  23080242  封印  女  73  88  92  61  47  46\n"
     ],
     "output_type": "stream"
    }
   ],
   "source": [
    "import pandas as pd\n",
    "df = pd.read_excel(r'D:\\users\\lenovo\\PyQt5\\大数据分析\\data\\i_nuc.xls', \n",
    "                   sheetname='Sheet7')\n",
    "print(df.head())"
   ],
   "metadata": {
    "collapsed": false,
    "pycharm": {
     "name": "#%%\n",
     "is_executing": false
    }
   }
  },
  {
   "cell_type": "code",
   "execution_count": 4,
   "outputs": [
    {
     "data": {
      "text/plain": "count    20.000000\nmean     62.850000\nstd       9.582193\nmin      40.000000\n25%      60.750000\n50%      63.500000\n75%      69.250000\nmax      78.000000\nName: 数分, dtype: float64"
     },
     "metadata": {},
     "output_type": "execute_result",
     "execution_count": 4
    }
   ],
   "source": [
    "df.数分.describe()"
   ],
   "metadata": {
    "collapsed": false,
    "pycharm": {
     "name": "#%%\n",
     "is_executing": false
    }
   }
  },
  {
   "cell_type": "code",
   "execution_count": 9,
   "outputs": [
    {
     "data": {
      "text/plain": "       Unnamed: 0            学号            班级      英语         体育         军训  \\\ncount    20.00000  2.000000e+01  2.000000e+01  20.000  20.000000  20.000000   \nmean      9.50000  2.308024e+09  2.308024e+07  72.550  70.250000  75.800000   \nstd       5.91608  8.399160e+01  8.522416e-01   7.178  20.746274  26.486541   \nmin       0.00000  2.308024e+09  2.308024e+07  60.000   0.000000   0.000000   \n25%       4.75000  2.308024e+09  2.308024e+07  66.000  65.500000  77.000000   \n50%       9.50000  2.308024e+09  2.308024e+07  73.500  74.000000  84.000000   \n75%      14.25000  2.308024e+09  2.308024e+07  76.250  80.250000  88.250000   \nmax      19.00000  2.308024e+09  2.308024e+07  85.000  96.000000  93.000000   \n\n              数分         高代         解几  \ncount  20.000000  20.000000  20.000000  \nmean   62.850000  62.150000  69.650000  \nstd     9.582193  15.142394  10.643876  \nmin    40.000000  23.000000  44.000000  \n25%    60.750000  56.750000  66.750000  \n50%    63.500000  65.500000  71.000000  \n75%    69.250000  71.250000  77.000000  \nmax    78.000000  90.000000  83.000000  ",
      "text/html": "<div>\n<style scoped>\n    .dataframe tbody tr th:only-of-type {\n        vertical-align: middle;\n    }\n\n    .dataframe tbody tr th {\n        vertical-align: top;\n    }\n\n    .dataframe thead th {\n        text-align: right;\n    }\n</style>\n<table border=\"1\" class=\"dataframe\">\n  <thead>\n    <tr style=\"text-align: right;\">\n      <th></th>\n      <th>Unnamed: 0</th>\n      <th>学号</th>\n      <th>班级</th>\n      <th>英语</th>\n      <th>体育</th>\n      <th>军训</th>\n      <th>数分</th>\n      <th>高代</th>\n      <th>解几</th>\n    </tr>\n  </thead>\n  <tbody>\n    <tr>\n      <th>count</th>\n      <td>20.00000</td>\n      <td>2.000000e+01</td>\n      <td>2.000000e+01</td>\n      <td>20.000</td>\n      <td>20.000000</td>\n      <td>20.000000</td>\n      <td>20.000000</td>\n      <td>20.000000</td>\n      <td>20.000000</td>\n    </tr>\n    <tr>\n      <th>mean</th>\n      <td>9.50000</td>\n      <td>2.308024e+09</td>\n      <td>2.308024e+07</td>\n      <td>72.550</td>\n      <td>70.250000</td>\n      <td>75.800000</td>\n      <td>62.850000</td>\n      <td>62.150000</td>\n      <td>69.650000</td>\n    </tr>\n    <tr>\n      <th>std</th>\n      <td>5.91608</td>\n      <td>8.399160e+01</td>\n      <td>8.522416e-01</td>\n      <td>7.178</td>\n      <td>20.746274</td>\n      <td>26.486541</td>\n      <td>9.582193</td>\n      <td>15.142394</td>\n      <td>10.643876</td>\n    </tr>\n    <tr>\n      <th>min</th>\n      <td>0.00000</td>\n      <td>2.308024e+09</td>\n      <td>2.308024e+07</td>\n      <td>60.000</td>\n      <td>0.000000</td>\n      <td>0.000000</td>\n      <td>40.000000</td>\n      <td>23.000000</td>\n      <td>44.000000</td>\n    </tr>\n    <tr>\n      <th>25%</th>\n      <td>4.75000</td>\n      <td>2.308024e+09</td>\n      <td>2.308024e+07</td>\n      <td>66.000</td>\n      <td>65.500000</td>\n      <td>77.000000</td>\n      <td>60.750000</td>\n      <td>56.750000</td>\n      <td>66.750000</td>\n    </tr>\n    <tr>\n      <th>50%</th>\n      <td>9.50000</td>\n      <td>2.308024e+09</td>\n      <td>2.308024e+07</td>\n      <td>73.500</td>\n      <td>74.000000</td>\n      <td>84.000000</td>\n      <td>63.500000</td>\n      <td>65.500000</td>\n      <td>71.000000</td>\n    </tr>\n    <tr>\n      <th>75%</th>\n      <td>14.25000</td>\n      <td>2.308024e+09</td>\n      <td>2.308024e+07</td>\n      <td>76.250</td>\n      <td>80.250000</td>\n      <td>88.250000</td>\n      <td>69.250000</td>\n      <td>71.250000</td>\n      <td>77.000000</td>\n    </tr>\n    <tr>\n      <th>max</th>\n      <td>19.00000</td>\n      <td>2.308024e+09</td>\n      <td>2.308024e+07</td>\n      <td>85.000</td>\n      <td>96.000000</td>\n      <td>93.000000</td>\n      <td>78.000000</td>\n      <td>90.000000</td>\n      <td>83.000000</td>\n    </tr>\n  </tbody>\n</table>\n</div>"
     },
     "metadata": {},
     "output_type": "execute_result",
     "execution_count": 9
    }
   ],
   "source": [
    "df.describe()"
   ],
   "metadata": {
    "collapsed": false,
    "pycharm": {
     "name": "#%%\n",
     "is_executing": false
    }
   }
  },
  {
   "cell_type": "code",
   "execution_count": 5,
   "outputs": [
    {
     "data": {
      "text/plain": "20"
     },
     "metadata": {},
     "output_type": "execute_result",
     "execution_count": 5
    }
   ],
   "source": [
    "df.解几.size"
   ],
   "metadata": {
    "collapsed": false,
    "pycharm": {
     "name": "#%%\n",
     "is_executing": false
    }
   }
  },
  {
   "cell_type": "code",
   "execution_count": 6,
   "outputs": [
    {
     "data": {
      "text/plain": "83"
     },
     "metadata": {},
     "output_type": "execute_result",
     "execution_count": 6
    }
   ],
   "source": [
    "df.解几.max()"
   ],
   "metadata": {
    "collapsed": false,
    "pycharm": {
     "name": "#%%\n",
     "is_executing": false
    }
   }
  },
  {
   "cell_type": "code",
   "execution_count": 7,
   "outputs": [
    {
     "data": {
      "text/plain": "44"
     },
     "metadata": {},
     "output_type": "execute_result",
     "execution_count": 7
    }
   ],
   "source": [
    "df.解几.min()"
   ],
   "metadata": {
    "collapsed": false,
    "pycharm": {
     "name": "#%%\n",
     "is_executing": false
    }
   }
  },
  {
   "cell_type": "code",
   "execution_count": 8,
   "outputs": [
    {
     "data": {
      "text/plain": "1393"
     },
     "metadata": {},
     "output_type": "execute_result",
     "execution_count": 8
    }
   ],
   "source": [
    "df.解几.sum()"
   ],
   "metadata": {
    "collapsed": false,
    "pycharm": {
     "name": "#%%\n",
     "is_executing": false
    }
   }
  },
  {
   "cell_type": "code",
   "execution_count": 10,
   "outputs": [
    {
     "data": {
      "text/plain": "69.65"
     },
     "metadata": {},
     "output_type": "execute_result",
     "execution_count": 10
    }
   ],
   "source": [
    "df.解几.mean()"
   ],
   "metadata": {
    "collapsed": false,
    "pycharm": {
     "name": "#%%\n",
     "is_executing": false
    }
   }
  },
  {
   "cell_type": "code",
   "execution_count": 11,
   "outputs": [
    {
     "data": {
      "text/plain": "113.29210526315788"
     },
     "metadata": {},
     "output_type": "execute_result",
     "execution_count": 11
    }
   ],
   "source": [
    "df.解几.var()"
   ],
   "metadata": {
    "collapsed": false,
    "pycharm": {
     "name": "#%%\n",
     "is_executing": false
    }
   }
  },
  {
   "cell_type": "code",
   "execution_count": 12,
   "outputs": [
    {
     "data": {
      "text/plain": "10.643876420889049"
     },
     "metadata": {},
     "output_type": "execute_result",
     "execution_count": 12
    }
   ],
   "source": [
    "df.解几.std()"
   ],
   "metadata": {
    "collapsed": false,
    "pycharm": {
     "name": "#%%\n",
     "is_executing": false
    }
   }
  }
 ],
 "metadata": {
  "kernelspec": {
   "display_name": "Python 3",
   "language": "python",
   "name": "python3"
  },
  "language_info": {
   "codemirror_mode": {
    "name": "ipython",
    "version": 2
   },
   "file_extension": ".py",
   "mimetype": "text/x-python",
   "name": "python",
   "nbconvert_exporter": "python",
   "pygments_lexer": "ipython2",
   "version": "2.7.6"
  },
  "pycharm": {
   "stem_cell": {
    "cell_type": "raw",
    "source": [],
    "metadata": {
     "collapsed": false
    }
   }
  }
 },
 "nbformat": 4,
 "nbformat_minor": 0
}