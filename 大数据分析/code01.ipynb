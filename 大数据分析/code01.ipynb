{
 "cells": [
  {
   "cell_type": "markdown",
   "source": [
    "### 常用快捷键\n",
    "- 运行单元：Ctrl+Enter\n",
    "- 插入单元在后面：Alt+Shift+B\n",
    "- 插入单元在前方：Alt+Shift+A\n",
    "\n",
    "### 常用统计函数\n",
    "- size：计数（此函数不需要括号）\n",
    "- sum()：求和\n",
    "- mean():求平均值\n",
    "- var()：方差\n",
    "- std()：标准差"
   ],
   "metadata": {
    "collapsed": false
   }
  },
  {
   "cell_type": "code",
   "execution_count": 3,
   "outputs": [
    {
     "name": "stdout",
     "text": [
      "   Unnamed: 0          学号        班级  姓名 性别  英语  体育  军训  数分  高代  解几\n",
      "0           0  2308024241  23080242  成龙  男  76  78  77  40  23  60\n",
      "1           1  2308024244  23080242  周怡  女  66  91  75  47  47  44\n",
      "2           2  2308024251  23080242  张波  男  85  81  75  45  45  60\n",
      "3           3  2308024249  23080242  朱浩  男  65  50  80  72  62  71\n",
      "4           4  2308024219  23080242  封印  女  73  88  92  61  47  46\n"
     ],
     "output_type": "stream"
    }
   ],
   "source": [
    "import pandas as pd\n",
    "df = pd.read_excel(r'D:\\users\\lenovo\\PyQt5\\大数据分析\\data\\i_nuc.xls', \n",
    "                   sheetname='Sheet7')\n",
    "print(df.head())"
   ],
   "metadata": {
    "collapsed": false,
    "pycharm": {
     "name": "#%%\n",
     "is_executing": false
    }
   }
  },
  {
   "cell_type": "code",
   "execution_count": 4,
   "outputs": [
    {
     "data": {
      "text/plain": "count    20.000000\nmean     62.850000\nstd       9.582193\nmin      40.000000\n25%      60.750000\n50%      63.500000\n75%      69.250000\nmax      78.000000\nName: 数分, dtype: float64"
     },
     "metadata": {},
     "output_type": "execute_result",
     "execution_count": 4
    }
   ],
   "source": [
    "df.数分.describe()"
   ],
   "metadata": {
    "collapsed": false,
    "pycharm": {
     "name": "#%%\n",
     "is_executing": false
    }
   }
  },
  {
   "cell_type": "code",
   "execution_count": 9,
   "outputs": [
    {
     "data": {
      "text/plain": "       Unnamed: 0            学号            班级      英语         体育         军训  \\\ncount    20.00000  2.000000e+01  2.000000e+01  20.000  20.000000  20.000000   \nmean      9.50000  2.308024e+09  2.308024e+07  72.550  70.250000  75.800000   \nstd       5.91608  8.399160e+01  8.522416e-01   7.178  20.746274  26.486541   \nmin       0.00000  2.308024e+09  2.308024e+07  60.000   0.000000   0.000000   \n25%       4.75000  2.308024e+09  2.308024e+07  66.000  65.500000  77.000000   \n50%       9.50000  2.308024e+09  2.308024e+07  73.500  74.000000  84.000000   \n75%      14.25000  2.308024e+09  2.308024e+07  76.250  80.250000  88.250000   \nmax      19.00000  2.308024e+09  2.308024e+07  85.000  96.000000  93.000000   \n\n              数分         高代         解几  \ncount  20.000000  20.000000  20.000000  \nmean   62.850000  62.150000  69.650000  \nstd     9.582193  15.142394  10.643876  \nmin    40.000000  23.000000  44.000000  \n25%    60.750000  56.750000  66.750000  \n50%    63.500000  65.500000  71.000000  \n75%    69.250000  71.250000  77.000000  \nmax    78.000000  90.000000  83.000000  ",
      "text/html": "<div>\n<style scoped>\n    .dataframe tbody tr th:only-of-type {\n        vertical-align: middle;\n    }\n\n    .dataframe tbody tr th {\n        vertical-align: top;\n    }\n\n    .dataframe thead th {\n        text-align: right;\n    }\n</style>\n<table border=\"1\" class=\"dataframe\">\n  <thead>\n    <tr style=\"text-align: right;\">\n      <th></th>\n      <th>Unnamed: 0</th>\n      <th>学号</th>\n      <th>班级</th>\n      <th>英语</th>\n      <th>体育</th>\n      <th>军训</th>\n      <th>数分</th>\n      <th>高代</th>\n      <th>解几</th>\n    </tr>\n  </thead>\n  <tbody>\n    <tr>\n      <th>count</th>\n      <td>20.00000</td>\n      <td>2.000000e+01</td>\n      <td>2.000000e+01</td>\n      <td>20.000</td>\n      <td>20.000000</td>\n      <td>20.000000</td>\n      <td>20.000000</td>\n      <td>20.000000</td>\n      <td>20.000000</td>\n    </tr>\n    <tr>\n      <th>mean</th>\n      <td>9.50000</td>\n      <td>2.308024e+09</td>\n      <td>2.308024e+07</td>\n      <td>72.550</td>\n      <td>70.250000</td>\n      <td>75.800000</td>\n      <td>62.850000</td>\n      <td>62.150000</td>\n      <td>69.650000</td>\n    </tr>\n    <tr>\n      <th>std</th>\n      <td>5.91608</td>\n      <td>8.399160e+01</td>\n      <td>8.522416e-01</td>\n      <td>7.178</td>\n      <td>20.746274</td>\n      <td>26.486541</td>\n      <td>9.582193</td>\n      <td>15.142394</td>\n      <td>10.643876</td>\n    </tr>\n    <tr>\n      <th>min</th>\n      <td>0.00000</td>\n      <td>2.308024e+09</td>\n      <td>2.308024e+07</td>\n      <td>60.000</td>\n      <td>0.000000</td>\n      <td>0.000000</td>\n      <td>40.000000</td>\n      <td>23.000000</td>\n      <td>44.000000</td>\n    </tr>\n    <tr>\n      <th>25%</th>\n      <td>4.75000</td>\n      <td>2.308024e+09</td>\n      <td>2.308024e+07</td>\n      <td>66.000</td>\n      <td>65.500000</td>\n      <td>77.000000</td>\n      <td>60.750000</td>\n      <td>56.750000</td>\n      <td>66.750000</td>\n    </tr>\n    <tr>\n      <th>50%</th>\n      <td>9.50000</td>\n      <td>2.308024e+09</td>\n      <td>2.308024e+07</td>\n      <td>73.500</td>\n      <td>74.000000</td>\n      <td>84.000000</td>\n      <td>63.500000</td>\n      <td>65.500000</td>\n      <td>71.000000</td>\n    </tr>\n    <tr>\n      <th>75%</th>\n      <td>14.25000</td>\n      <td>2.308024e+09</td>\n      <td>2.308024e+07</td>\n      <td>76.250</td>\n      <td>80.250000</td>\n      <td>88.250000</td>\n      <td>69.250000</td>\n      <td>71.250000</td>\n      <td>77.000000</td>\n    </tr>\n    <tr>\n      <th>max</th>\n      <td>19.00000</td>\n      <td>2.308024e+09</td>\n      <td>2.308024e+07</td>\n      <td>85.000</td>\n      <td>96.000000</td>\n      <td>93.000000</td>\n      <td>78.000000</td>\n      <td>90.000000</td>\n      <td>83.000000</td>\n    </tr>\n  </tbody>\n</table>\n</div>"
     },
     "metadata": {},
     "output_type": "execute_result",
     "execution_count": 9
    }
   ],
   "source": [
    "df.describe()"
   ],
   "metadata": {
    "collapsed": false,
    "pycharm": {
     "name": "#%%\n",
     "is_executing": false
    }
   }
  },
  {
   "cell_type": "code",
   "execution_count": 5,
   "outputs": [
    {
     "data": {
      "text/plain": "20"
     },
     "metadata": {},
     "output_type": "execute_result",
     "execution_count": 5
    }
   ],
   "source": [
    "df.解几.size"
   ],
   "metadata": {
    "collapsed": false,
    "pycharm": {
     "name": "#%%\n",
     "is_executing": false
    }
   }
  },
  {
   "cell_type": "code",
   "execution_count": 6,
   "outputs": [
    {
     "data": {
      "text/plain": "83"
     },
     "metadata": {},
     "output_type": "execute_result",
     "execution_count": 6
    }
   ],
   "source": [
    "df.解几.max()"
   ],
   "metadata": {
    "collapsed": false,
    "pycharm": {
     "name": "#%%\n",
     "is_executing": false
    }
   }
  },
  {
   "cell_type": "code",
   "execution_count": 7,
   "outputs": [
    {
     "data": {
      "text/plain": "44"
     },
     "metadata": {},
     "output_type": "execute_result",
     "execution_count": 7
    }
   ],
   "source": [
    "df.解几.min()"
   ],
   "metadata": {
    "collapsed": false,
    "pycharm": {
     "name": "#%%\n",
     "is_executing": false
    }
   }
  },
  {
   "cell_type": "code",
   "execution_count": 8,
   "outputs": [
    {
     "data": {
      "text/plain": "1393"
     },
     "metadata": {},
     "output_type": "execute_result",
     "execution_count": 8
    }
   ],
   "source": [
    "df.解几.sum()"
   ],
   "metadata": {
    "collapsed": false,
    "pycharm": {
     "name": "#%%\n",
     "is_executing": false
    }
   }
  },
  {
   "cell_type": "code",
   "execution_count": 10,
   "outputs": [
    {
     "data": {
      "text/plain": "69.65"
     },
     "metadata": {},
     "output_type": "execute_result",
     "execution_count": 10
    }
   ],
   "source": [
    "df.解几.mean()"
   ],
   "metadata": {
    "collapsed": false,
    "pycharm": {
     "name": "#%%\n",
     "is_executing": false
    }
   }
  },
  {
   "cell_type": "code",
   "execution_count": 11,
   "outputs": [
    {
     "data": {
      "text/plain": "113.29210526315788"
     },
     "metadata": {},
     "output_type": "execute_result",
     "execution_count": 11
    }
   ],
   "source": [
    "df.解几.var()"
   ],
   "metadata": {
    "collapsed": false,
    "pycharm": {
     "name": "#%%\n",
     "is_executing": false
    }
   }
  },
  {
   "cell_type": "code",
   "execution_count": 12,
   "outputs": [
    {
     "data": {
      "text/plain": "10.643876420889049"
     },
     "metadata": {},
     "output_type": "execute_result",
     "execution_count": 12
    }
   ],
   "source": [
    "df.解几.std()"
   ],
   "metadata": {
    "collapsed": false,
    "pycharm": {
     "name": "#%%\n",
     "is_executing": false
    }
   }
  },
  {
   "cell_type": "code",
   "execution_count": 13,
   "outputs": [
    {
     "data": {
      "text/plain": "62.85"
     },
     "metadata": {},
     "output_type": "execute_result",
     "execution_count": 13
    }
   ],
   "source": [
    "import numpy as np\n",
    "np.mean(df['数分'])"
   ],
   "metadata": {
    "collapsed": false,
    "pycharm": {
     "name": "#%%\n",
     "is_executing": false
    }
   }
  },
  {
   "cell_type": "code",
   "execution_count": 14,
   "outputs": [
    {
     "data": {
      "text/plain": "62.85"
     },
     "metadata": {},
     "output_type": "execute_result",
     "execution_count": 14
    }
   ],
   "source": [
    "np.average(df['数分'])"
   ],
   "metadata": {
    "collapsed": false,
    "pycharm": {
     "name": "#%%\n",
     "is_executing": false
    }
   }
  },
  {
   "cell_type": "code",
   "execution_count": 15,
   "outputs": [
    {
     "name": "stdout",
     "text": [
      "    Unnamed: 0          学号          班级   姓名   性别    英语    体育    军训    数分  \\\n",
      "0            0  2308024201  23080244.0   余皓    男  76.0  50.0  84.0  61.0   \n",
      "1            1  2308024219         NaN   周怡  NaN   NaN  67.0   NaN   NaN   \n",
      "2            2  2308024241         NaN   周路  NaN   NaN  74.0   NaN   NaN   \n",
      "3            3  2308024244         NaN  姜毅涛  NaN   NaN   NaN   NaN   NaN   \n",
      "4            4  2308024249         NaN   封印  NaN   NaN   NaN   NaN   NaN   \n",
      "5            5  2308024251         NaN   张波  NaN   NaN   NaN   NaN   NaN   \n",
      "6            6  2308024307         NaN   成龙  NaN   NaN   NaN   NaN   NaN   \n",
      "7            7  2308024310         NaN   朱浩  NaN   NaN   NaN   NaN   NaN   \n",
      "8            8  2308024320         NaN  李上初  NaN   NaN   NaN   NaN   NaN   \n",
      "9            9  2308024326         NaN  李侧通  NaN   NaN   NaN   NaN   NaN   \n",
      "10          10  2308024342         NaN   李华  NaN   NaN   NaN   NaN   NaN   \n",
      "11          11  2308024347         NaN   李嘉  NaN   NaN   NaN   NaN   NaN   \n",
      "12          12  2308024402         NaN  李大强  NaN   NaN   NaN   NaN   NaN   \n",
      "13          13  2308024421         NaN  李晓亮  NaN   NaN   NaN   NaN   NaN   \n",
      "14          14  2308024422         NaN  林建祥  NaN   NaN   NaN   NaN   NaN   \n",
      "15          15  2308024428         NaN   王慧  NaN   NaN   NaN   NaN   NaN   \n",
      "16          16  2308024432         NaN   赵宇  NaN   NaN   NaN   NaN   NaN   \n",
      "17          17  2308024433         NaN   迟培  NaN   NaN   NaN   NaN   NaN   \n",
      "18          18  2308024435         NaN   郭窦  NaN   NaN   NaN   NaN   NaN   \n",
      "19          19  2308024446         NaN   陈田  NaN   NaN   NaN   NaN   NaN   \n",
      "\n",
      "      高代    解几  \n",
      "0   47.0  71.0  \n",
      "1   70.0   NaN  \n",
      "2    NaN   NaN  \n",
      "3    NaN   NaN  \n",
      "4    NaN   NaN  \n",
      "5    NaN   NaN  \n",
      "6    NaN   NaN  \n",
      "7    NaN   NaN  \n",
      "8    NaN   NaN  \n",
      "9    NaN   NaN  \n",
      "10   NaN   NaN  \n",
      "11   NaN   NaN  \n",
      "12   NaN   NaN  \n",
      "13   NaN   NaN  \n",
      "14   NaN   NaN  \n",
      "15   NaN   NaN  \n",
      "16   NaN   NaN  \n",
      "17   NaN   NaN  \n",
      "18   NaN   NaN  \n",
      "19   NaN   NaN  \n"
     ],
     "output_type": "stream"
    }
   ],
   "source": [
    "print(df.mode())"
   ],
   "metadata": {
    "collapsed": false,
    "pycharm": {
     "name": "#%%\n",
     "is_executing": false
    }
   }
  },
  {
   "cell_type": "markdown",
   "source": [
    "### 分组分析\n",
    "- 分组分析是根据分组字段，将分析对象划分为不同部分，以对比各个组之间的差异性\n",
    "的一种方法。\n",
    "- 常用统计指标有：**计数、求和、平均值**\n",
    "常用命令如下：\n",
    "df.groupby(by=['class1','class2'...])['被统计的列'].agg({列别名1:统计函数1}）"
   ],
   "metadata": {
    "collapsed": false,
    "pycharm": {
     "name": "#%% md\n"
    }
   }
  },
  {
   "cell_type": "code",
   "execution_count": 1,
   "outputs": [
    {
     "name": "stderr",
     "text": [
      "D:\\ProgramData\\Anaconda3\\lib\\site-packages\\pandas\\util\\_decorators.py:188: FutureWarning: The `sheetname` keyword is deprecated, use `sheet_name` instead\n",
      "  return func(*args, **kwargs)\n"
     ],
     "output_type": "stream"
    },
    {
     "data": {
      "text/plain": "                 军训         英语         体育\n班级                                       \n23080242  81.333333  70.833333  73.000000\n23080243  85.500000  71.000000  60.666667\n23080244  64.375000  75.000000  75.375000",
      "text/html": "<div>\n<style scoped>\n    .dataframe tbody tr th:only-of-type {\n        vertical-align: middle;\n    }\n\n    .dataframe tbody tr th {\n        vertical-align: top;\n    }\n\n    .dataframe thead th {\n        text-align: right;\n    }\n</style>\n<table border=\"1\" class=\"dataframe\">\n  <thead>\n    <tr style=\"text-align: right;\">\n      <th></th>\n      <th>军训</th>\n      <th>英语</th>\n      <th>体育</th>\n    </tr>\n    <tr>\n      <th>班级</th>\n      <th></th>\n      <th></th>\n      <th></th>\n    </tr>\n  </thead>\n  <tbody>\n    <tr>\n      <th>23080242</th>\n      <td>81.333333</td>\n      <td>70.833333</td>\n      <td>73.000000</td>\n    </tr>\n    <tr>\n      <th>23080243</th>\n      <td>85.500000</td>\n      <td>71.000000</td>\n      <td>60.666667</td>\n    </tr>\n    <tr>\n      <th>23080244</th>\n      <td>64.375000</td>\n      <td>75.000000</td>\n      <td>75.375000</td>\n    </tr>\n  </tbody>\n</table>\n</div>"
     },
     "metadata": {},
     "output_type": "execute_result",
     "execution_count": 1
    }
   ],
   "source": [
    "import numpy as np\n",
    "from pandas import read_excel\n",
    "df = read_excel(r'D:\\users\\lenovo\\PyQt5\\大数据分析\\data\\i_nuc.xls', \n",
    "                   sheetname='Sheet7')\n",
    "df.head()\n",
    "df.groupby('班级')['军训','英语','体育','性别'].mean()"
   ],
   "metadata": {
    "collapsed": false,
    "pycharm": {
     "name": "#%%\n",
     "is_executing": false
    }
   }
  },
  {
   "cell_type": "code",
   "execution_count": 2,
   "outputs": [
    {
     "name": "stderr",
     "text": [
      "D:\\ProgramData\\Anaconda3\\lib\\site-packages\\ipykernel_launcher.py:8: FutureWarning: using a dict on a Series for aggregation\n",
      "is deprecated and will be removed in a future version\n",
      "  \n"
     ],
     "output_type": "stream"
    },
    {
     "data": {
      "text/plain": "              总分  人数        平均值           方差        标准差  最高分  最低分\n班级       性别                                                      \n23080242 女   167   2  83.500000   144.500000  12.020815   92   75\n         男   321   4  80.250000    38.250000   6.184658   89   75\n23080243 女   258   3  86.000000    12.000000   3.464102   90   84\n         男   255   3  85.000000     1.000000   1.000000   86   84\n23080244 女    93   2  46.500000  4324.500000  65.760931   93    0\n         男   422   6  70.333333  1211.866667  34.811875   91    0",
      "text/html": "<div>\n<style scoped>\n    .dataframe tbody tr th:only-of-type {\n        vertical-align: middle;\n    }\n\n    .dataframe tbody tr th {\n        vertical-align: top;\n    }\n\n    .dataframe thead th {\n        text-align: right;\n    }\n</style>\n<table border=\"1\" class=\"dataframe\">\n  <thead>\n    <tr style=\"text-align: right;\">\n      <th></th>\n      <th></th>\n      <th>总分</th>\n      <th>人数</th>\n      <th>平均值</th>\n      <th>方差</th>\n      <th>标准差</th>\n      <th>最高分</th>\n      <th>最低分</th>\n    </tr>\n    <tr>\n      <th>班级</th>\n      <th>性别</th>\n      <th></th>\n      <th></th>\n      <th></th>\n      <th></th>\n      <th></th>\n      <th></th>\n      <th></th>\n    </tr>\n  </thead>\n  <tbody>\n    <tr>\n      <th rowspan=\"2\" valign=\"top\">23080242</th>\n      <th>女</th>\n      <td>167</td>\n      <td>2</td>\n      <td>83.500000</td>\n      <td>144.500000</td>\n      <td>12.020815</td>\n      <td>92</td>\n      <td>75</td>\n    </tr>\n    <tr>\n      <th>男</th>\n      <td>321</td>\n      <td>4</td>\n      <td>80.250000</td>\n      <td>38.250000</td>\n      <td>6.184658</td>\n      <td>89</td>\n      <td>75</td>\n    </tr>\n    <tr>\n      <th rowspan=\"2\" valign=\"top\">23080243</th>\n      <th>女</th>\n      <td>258</td>\n      <td>3</td>\n      <td>86.000000</td>\n      <td>12.000000</td>\n      <td>3.464102</td>\n      <td>90</td>\n      <td>84</td>\n    </tr>\n    <tr>\n      <th>男</th>\n      <td>255</td>\n      <td>3</td>\n      <td>85.000000</td>\n      <td>1.000000</td>\n      <td>1.000000</td>\n      <td>86</td>\n      <td>84</td>\n    </tr>\n    <tr>\n      <th rowspan=\"2\" valign=\"top\">23080244</th>\n      <th>女</th>\n      <td>93</td>\n      <td>2</td>\n      <td>46.500000</td>\n      <td>4324.500000</td>\n      <td>65.760931</td>\n      <td>93</td>\n      <td>0</td>\n    </tr>\n    <tr>\n      <th>男</th>\n      <td>422</td>\n      <td>6</td>\n      <td>70.333333</td>\n      <td>1211.866667</td>\n      <td>34.811875</td>\n      <td>91</td>\n      <td>0</td>\n    </tr>\n  </tbody>\n</table>\n</div>"
     },
     "metadata": {},
     "output_type": "execute_result",
     "execution_count": 2
    }
   ],
   "source": [
    "df.groupby(by=['班级','性别'])['军训'].agg({\n",
    "    '总分':np.sum,\n",
    "    '人数':np.size,\n",
    "    '平均值':np.mean,\n",
    "    '方差':np.var,\n",
    "    '标准差':np.std,\n",
    "    '最高分':np.max,\n",
    "    '最低分':np.min\n",
    "})"
   ],
   "metadata": {
    "collapsed": false,
    "pycharm": {
     "name": "#%%\n",
     "is_executing": false
    }
   }
  },
  {
   "cell_type": "markdown",
   "source": [
    "### 分布分析\n",
    "- 分布分析，是指根据分析的目的，将数据（定量数据）进行等距或不等距的分组，\n",
    "研究各组分布规律的一种分析方法。\n"
   ],
   "metadata": {
    "collapsed": false,
    "pycharm": {
     "name": "#%% md\n"
    }
   }
  },
  {
   "cell_type": "code",
   "execution_count": 4,
   "outputs": [
    {
     "data": {
      "text/plain": "0    354\n1    370\n2    391\n3    400\n4    407\nName: 总分, dtype: int64"
     },
     "metadata": {},
     "output_type": "execute_result",
     "execution_count": 4
    }
   ],
   "source": [
    "df['总分']=df.体育+df.英语+df.军训+df.数分+df.高代+df.解几\n",
    "df['总分'].head()"
   ],
   "metadata": {
    "collapsed": false,
    "pycharm": {
     "name": "#%%\n",
     "is_executing": false
    }
   }
  }
 ],
 "metadata": {
  "kernelspec": {
   "display_name": "Python 3",
   "language": "python",
   "name": "python3"
  },
  "language_info": {
   "codemirror_mode": {
    "name": "ipython",
    "version": 2
   },
   "file_extension": ".py",
   "mimetype": "text/x-python",
   "name": "python",
   "nbconvert_exporter": "python",
   "pygments_lexer": "ipython2",
   "version": "2.7.6"
  },
  "pycharm": {
   "stem_cell": {
    "cell_type": "raw",
    "source": [],
    "metadata": {
     "collapsed": false
    }
   }
  }
 },
 "nbformat": 4,
 "nbformat_minor": 0
}